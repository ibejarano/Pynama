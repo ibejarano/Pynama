{
 "cells": [
  {
   "cell_type": "markdown",
   "metadata": {},
   "source": [
    "### Testeo de la funcion de setear condiciones de borde al DMPLEX\n",
    "\n",
    "En primer lugar definimos un dominio de 2 x 2 elementos y ngl=2, o sea, 9 nodos en total.\n",
    "\n",
    "De esos 9 nodos, 8 se encuentran en el borde. Siguiendo la numeracion de PETSc el nodo 4 ( empezando a contar desde 0) es el que se encuentra en el centro (no tiene condicion de borde).\n",
    "\n",
    "En esta primer celda definimos los **imports** y una funcion para asignar los grados de libertad de acuerdo a si es cara, edge o vertice."
   ]
  },
  {
   "cell_type": "code",
   "execution_count": 57,
   "metadata": {},
   "outputs": [],
   "source": [
    "from petsc4py import PETSc\n",
    "import numpy as np\n",
    "\n",
    "def getNumCompAndNumDof(ngl, componentsPerField ,numFields):\n",
    "    numComp = [componentsPerField] * numFields\n",
    "    nodesPerEntity = [ 1 , ngl - 2 , (ngl - 2)**2 ]\n",
    "    #           vertex-^ edges -^     faces -^   \n",
    "    numDof = [componentsPerField * nodes for nodes in nodesPerEntity]\n",
    "    return numComp, numDof"
   ]
  },
  {
   "cell_type": "markdown",
   "metadata": {},
   "source": [
    "### Creacion del DMPlex\n",
    "\n",
    "Primero se crea el ```dm``` del tipo box, 2x2, y con ```dm.setNumFields(1)``` se establece que va a tener un unico ```field```, en este caso el field seran los nodos (aunque en un futuro podria directamente tener dos fields, la velocidad y la vorticidad directamente)\n",
    "\n",
    "Ademas creamos otro ```dmBC``` que va a seguir el mismo proceso pero con condiciones de borde"
   ]
  },
  {
   "cell_type": "code",
   "execution_count": 112,
   "metadata": {},
   "outputs": [
    {
     "name": "stdout",
     "output_type": "stream",
     "text": [
      "Cantidad de componentes por field [1]\n",
      "Grados de libertad por entidad [ vertices , edges , cells] [1, 0, 0]\n"
     ]
    }
   ],
   "source": [
    "dm = PETSc.DMPlex().createBoxMesh(faces=[2,2], simplex=False)\n",
    "dm.setNumFields(1)\n",
    "\n",
    "dmBC = PETSc.DMPlex().createBoxMesh(faces=[2,2], simplex=False)\n",
    "dmBC.setNumFields(1)\n",
    "\n",
    "numOfFields = 1\n",
    "dofsPerNode = 1\n",
    "ngl = 2\n",
    "numComp, numDof = getNumCompAndNumDof(ngl, dofsPerNode , numOfFields)\n",
    "\n",
    "print(\"Cantidad de componentes por field\", numComp)\n",
    "print(\"Grados de libertad por entidad [ vertices , edges , cells]\", numDof)"
   ]
  },
  {
   "cell_type": "markdown",
   "metadata": {},
   "source": [
    "### Seteo del Section y las condiciones de borde\n",
    "\n",
    "En primer lugar le pedimos al ```dm``` las **entidades** que esten en los bordes.\n",
    "Esto es algo nuevo que descubri, si le pedimos las entidades con el label \"marker\" y value=1 nos da las entidades en los bordes\n",
    "\n",
    "```bcIs``` es un objeto tipo PETSc.IS.\n",
    "\n",
    "Al llamar a ```dm.createSection()``` los primeros dos parametros son los que ya vimos en el ```print``` de la celda anterior.\n",
    "\n",
    "\n",
    "```sec``` esta definido tal cual esta hecho ahora\n",
    "```secBC``` es lo que estamos investigando ahora\n",
    "\n",
    "Los dos parametros adicionales son para definir las condiciones de borde:\n",
    "    \n",
    "El primero es ```bcField``` que en este caso es 0 porque es el unico que hay.\n",
    "\n",
    "Luego ```bcPoints``` tiene que ser ***necesariamente*** una lista con PETSc.IS. En este caso le pase una con todas las entidades en el borde\n",
    "\n",
    "Finalmente le damos un nombre a esta ```sec``` y terminamos con ```setUp```"
   ]
  },
  {
   "cell_type": "code",
   "execution_count": 113,
   "metadata": {},
   "outputs": [],
   "source": [
    "bcIs = dm.getStratumIS(\"marker\", 1)\n",
    "\n",
    "sec = dm.createSection(numComp, numDof)\n",
    "secBC = dmBC.createSection(numComp, numDof, 0 , bcPoints=[bcIs])\n",
    "\n",
    "sec.setFieldName(0, 'Nodes')\n",
    "secBC.setFieldName(0, 'Nodes')\n",
    "\n",
    "secBC.setUp()"
   ]
  },
  {
   "cell_type": "markdown",
   "metadata": {},
   "source": [
    "### Creando la matriz\n",
    "\n",
    "Para crear la matriz primero debemos setear la ```section``` por default al ```dm``` para luego pedirle la matriz.\n",
    "\n",
    "En este caso creamos dos matrices, tener en cuenta que estamos haciendo de cuenta que cada nodo tiene 1 grado de libertad, entonces la matriz sin definir condiciones de borde es de 9x9 y definiendo condiciones de borde es de 1x1"
   ]
  },
  {
   "cell_type": "code",
   "execution_count": 118,
   "metadata": {},
   "outputs": [
    {
     "name": "stdout",
     "output_type": "stream",
     "text": [
      "Dimension de matriz sin BC (9, 9)\n",
      "Dimension de matriz con BC (1, 1)\n"
     ]
    }
   ],
   "source": [
    "dm.setDefaultSection(sec)\n",
    "mat = dm.createMat()\n",
    "\n",
    "dmBC.setDefaultSection(secBC)\n",
    "matBC = dmBC.createMat()\n",
    "\n",
    "print(\"Dimension de matriz sin BC\" ,mat.getSize())\n",
    "print(\"Dimension de matriz con BC\",matBC.getSize())"
   ]
  },
  {
   "cell_type": "markdown",
   "metadata": {},
   "source": [
    "### Estudiando algunos metodos\n",
    "\n",
    "Sobre el ```dmBC``` le pedimos los siguientes los vectores denominados locales y globales."
   ]
  },
  {
   "cell_type": "code",
   "execution_count": 120,
   "metadata": {},
   "outputs": [
    {
     "name": "stdout",
     "output_type": "stream",
     "text": [
      "Vec local [0. 0. 0. 0. 0. 0. 0. 0. 0.]\n",
      "Vec global [0.]\n"
     ]
    }
   ],
   "source": [
    "localVec = dmBC.getLocalVec()\n",
    "globalVec = dmBC.getGlobalVec()\n",
    "\n",
    "print(\"Vec local\", localVec.getArray())\n",
    "print(\"Vec global\", globalVec.getArray())"
   ]
  },
  {
   "cell_type": "markdown",
   "metadata": {},
   "source": [
    "### Sobre el LGMap\n",
    "\n",
    "el lgmap (map local global) es una clase de PETSc que tiene el siguiente comportamiento:\n",
    "\n",
    "En el caso del ```dm``` sin bc es una lista comun ```[0, ...., 8]``` que indica todos los nodos.\n",
    "\n",
    "Pero para ```dmBC``` la lista tiene la particularidad de tener solos 2 valores, el 0 y el 1, ``` [0, 0, 0, 0, 0, 1, 1, 1, 1]``` . Justo cambia de valo "
   ]
  },
  {
   "cell_type": "code",
   "execution_count": 122,
   "metadata": {},
   "outputs": [
    {
     "name": "stdout",
     "output_type": "stream",
     "text": [
      "LGMap dm sin bc [0 1 2 3 4 5 6 7 8]\n",
      "LGMap dm con bc [0 0 0 0 0 1 1 1 1]\n"
     ]
    }
   ],
   "source": [
    "lg = dm.getLGMap()\n",
    "\n",
    "print(\"LGMap dm sin bc\", lg.getIndices())\n",
    "\n",
    "lgBC = dmBC.getLGMap()\n",
    "\n",
    "print(\"LGMap dm con bc\", lgBC.getIndices())"
   ]
  }
 ],
 "metadata": {
  "kernelspec": {
   "display_name": "Python 3",
   "language": "python",
   "name": "python3"
  },
  "language_info": {
   "codemirror_mode": {
    "name": "ipython",
    "version": 3
   },
   "file_extension": ".py",
   "mimetype": "text/x-python",
   "name": "python",
   "nbconvert_exporter": "python",
   "pygments_lexer": "ipython3",
   "version": "3.8.6"
  }
 },
 "nbformat": 4,
 "nbformat_minor": 4
}
