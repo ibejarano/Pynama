{
 "cells": [
  {
   "cell_type": "code",
   "execution_count": 1,
   "metadata": {},
   "outputs": [],
   "source": [
    "from petsc4py import PETSc\n",
    "import numpy as np"
   ]
  },
  {
   "cell_type": "code",
   "execution_count": 19,
   "metadata": {},
   "outputs": [
    {
     "data": {
      "text/plain": [
       "<petsc4py.PETSc.Viewer at 0x7ff9a7b25310>"
      ]
     },
     "execution_count": 19,
     "metadata": {},
     "output_type": "execute_result"
    }
   ],
   "source": [
    "dm = PETSc.DMPlex().createBoxMesh(faces=[3,3],  simplex=False, periodic=True)\n",
    "dm.setNumFields(1)\n",
    "\n",
    "numComp = [1]\n",
    "numDof = [1, 1, 1]\n",
    "\n",
    "sec = dm.createSection(numComp, numDof)\n",
    "sec.setFieldName(0, 'Nodes')\n",
    "dm.setDefaultSection(sec)\n",
    "\n",
    "mat = dm.createMat()\n",
    "dm.view()\n",
    "# mat.view()\n",
    "\n",
    "viewer = PETSc.Viewer()\n",
    "viewer.createVTK(\"periodic-dm.vtk\", mode=PETSc.Viewer.Mode.WRITE)\n",
    "viewer.view(obj=dm)\n",
    "viewer.destroy()       "
   ]
  }
 ],
 "metadata": {
  "kernelspec": {
   "display_name": "Python 3",
   "language": "python",
   "name": "python3"
  },
  "language_info": {
   "codemirror_mode": {
    "name": "ipython",
    "version": 3
   },
   "file_extension": ".py",
   "mimetype": "text/x-python",
   "name": "python",
   "nbconvert_exporter": "python",
   "pygments_lexer": "ipython3",
   "version": "3.8.6"
  }
 },
 "nbformat": 4,
 "nbformat_minor": 4
}
